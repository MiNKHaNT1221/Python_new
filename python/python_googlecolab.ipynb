{
  "nbformat": 4,
  "nbformat_minor": 0,
  "metadata": {
    "colab": {
      "provenance": [],
      "authorship_tag": "ABX9TyMrtzcwx2YulnFBOlQMHPwf",
      "include_colab_link": true
    },
    "kernelspec": {
      "name": "python3",
      "display_name": "Python 3"
    },
    "language_info": {
      "name": "python"
    }
  },
  "cells": [
    {
      "cell_type": "markdown",
      "metadata": {
        "id": "view-in-github",
        "colab_type": "text"
      },
      "source": [
        "<a href=\"https://colab.research.google.com/github/MiNKHaNT1221/Python_new/blob/main/python_googlecolab.ipynb\" target=\"_parent\"><img src=\"https://colab.research.google.com/assets/colab-badge.svg\" alt=\"Open In Colab\"/></a>"
      ]
    },
    {
      "cell_type": "code",
      "execution_count": 2,
      "metadata": {
        "colab": {
          "base_uri": "https://localhost:8080/"
        },
        "id": "BGB29M3WWuue",
        "outputId": "b952e05c-df16-4c71-8ce1-cee72e863f20"
      },
      "outputs": [
        {
          "output_type": "stream",
          "name": "stdout",
          "text": [
            "{'name': 'Aung Aung', 'age': 21}\n"
          ]
        }
      ],
      "source": [
        "learn={\"name\":\"Aung Aung\",\"age\":21}\n",
        "print(learn)"
      ]
    },
    {
      "cell_type": "code",
      "source": [
        "def myfunction(a,b):\n",
        "  result=a+b\n",
        "  return result\n",
        "\n",
        "a=int(input(\"please input a value\"))\n",
        "b=int(input(\"please input b value\"))\n",
        "final_result=myfunction(a,b)\n",
        "print(final_result)"
      ],
      "metadata": {
        "colab": {
          "base_uri": "https://localhost:8080/"
        },
        "id": "iDevv3X2GnQJ",
        "outputId": "449a9573-f1e6-4018-9bef-7ecc813269e5"
      },
      "execution_count": 9,
      "outputs": [
        {
          "output_type": "stream",
          "name": "stdout",
          "text": [
            "please input a value2\n",
            "please input b value3\n",
            "5\n"
          ]
        }
      ]
    }
  ]
}
